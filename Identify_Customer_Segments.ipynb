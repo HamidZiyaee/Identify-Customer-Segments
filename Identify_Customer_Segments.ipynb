{
 "cells": [
  {
   "cell_type": "markdown",
   "metadata": {},
   "source": [
    "# Project: Identify Customer Segments\n"
   ]
  },
  {
   "cell_type": "code",
   "execution_count": 2,
   "metadata": {},
   "outputs": [],
   "source": [
    "# import libraries here; add more as necessary\n",
    "import numpy as np\n",
    "import pandas as pd\n",
    "import matplotlib.pyplot as plt\n",
    "import seaborn as sns\n",
    "from sklearn import preprocessing\n",
    "from sklearn.decomposition import PCA\n",
    "from sklearn.preprocessing import MinMaxScaler, StandardScaler\n",
    "from sklearn.preprocessing import Imputer\n",
    "from sklearn.cluster import KMeans\n",
    "from IPython import display\n",
    "# magic word for producing visualizations in notebook\n",
    "%matplotlib inline"
   ]
  },
  {
   "cell_type": "markdown",
   "metadata": {},
   "source": [
    "### Step 0: Load the Data\n",
    "\n"
   ]
  },
  {
   "cell_type": "code",
   "execution_count": 3,
   "metadata": {},
   "outputs": [],
   "source": [
    "# Load in the general demographics data.\n",
    "azdias = pd.read_csv('Udacity_AZDIAS_Subset.csv', delimiter=';')\n",
    "\n",
    "# Load in the feature summary file.\n",
    "feat_info = pd.read_csv('AZDIAS_Feature_Summary.csv', delimiter=';')\n"
   ]
  },
  {
   "cell_type": "code",
   "execution_count": 4,
   "metadata": {},
   "outputs": [
    {
     "name": "stdout",
     "output_type": "stream",
     "text": [
      "(891221, 85)\n",
      "   AGER_TYP  ALTERSKATEGORIE_GROB  ANREDE_KZ  CJT_GESAMTTYP  \\\n",
      "0        -1                     2          1            2.0   \n",
      "1        -1                     1          2            5.0   \n",
      "2        -1                     3          2            3.0   \n",
      "3         2                     4          2            2.0   \n",
      "4        -1                     3          1            5.0   \n",
      "5         3                     1          2            2.0   \n",
      "6        -1                     2          2            5.0   \n",
      "7        -1                     1          1            3.0   \n",
      "8        -1                     3          1            3.0   \n",
      "9        -1                     3          2            4.0   \n",
      "\n",
      "   FINANZ_MINIMALIST  FINANZ_SPARER  FINANZ_VORSORGER  FINANZ_ANLEGER  \\\n",
      "0                  3              4                 3               5   \n",
      "1                  1              5                 2               5   \n",
      "2                  1              4                 1               2   \n",
      "3                  4              2                 5               2   \n",
      "4                  4              3                 4               1   \n",
      "5                  3              1                 5               2   \n",
      "6                  1              5                 1               5   \n",
      "7                  3              3                 4               1   \n",
      "8                  4              4                 2               4   \n",
      "9                  2              4                 2               3   \n",
      "\n",
      "   FINANZ_UNAUFFAELLIGER  FINANZ_HAUSBAUER    ...     PLZ8_ANTG1  PLZ8_ANTG2  \\\n",
      "0                      5                 3    ...            NaN         NaN   \n",
      "1                      4                 5    ...            2.0         3.0   \n",
      "2                      3                 5    ...            3.0         3.0   \n",
      "3                      1                 2    ...            2.0         2.0   \n",
      "4                      3                 2    ...            2.0         4.0   \n",
      "5                      2                 5    ...            2.0         3.0   \n",
      "6                      4                 3    ...            3.0         3.0   \n",
      "7                      3                 2    ...            3.0         3.0   \n",
      "8                      2                 2    ...            2.0         3.0   \n",
      "9                      5                 4    ...            2.0         3.0   \n",
      "\n",
      "   PLZ8_ANTG3  PLZ8_ANTG4  PLZ8_BAUMAX  PLZ8_HHZ  PLZ8_GBZ  ARBEIT  \\\n",
      "0         NaN         NaN          NaN       NaN       NaN     NaN   \n",
      "1         2.0         1.0          1.0       5.0       4.0     3.0   \n",
      "2         1.0         0.0          1.0       4.0       4.0     3.0   \n",
      "3         2.0         0.0          1.0       3.0       4.0     2.0   \n",
      "4         2.0         1.0          2.0       3.0       3.0     4.0   \n",
      "5         1.0         1.0          1.0       5.0       5.0     2.0   \n",
      "6         1.0         0.0          1.0       5.0       5.0     4.0   \n",
      "7         1.0         0.0          1.0       4.0       4.0     2.0   \n",
      "8         2.0         1.0          1.0       3.0       3.0     2.0   \n",
      "9         2.0         1.0          1.0       3.0       3.0     2.0   \n",
      "\n",
      "   ORTSGR_KLS9  RELAT_AB  \n",
      "0          NaN       NaN  \n",
      "1          5.0       4.0  \n",
      "2          5.0       2.0  \n",
      "3          3.0       3.0  \n",
      "4          6.0       5.0  \n",
      "5          3.0       3.0  \n",
      "6          6.0       3.0  \n",
      "7          5.0       2.0  \n",
      "8          4.0       3.0  \n",
      "9          3.0       1.0  \n",
      "\n",
      "[10 rows x 85 columns]\n"
     ]
    }
   ],
   "source": [
    "# Check the structure of the data after it's loaded (e.g. print the number of\n",
    "# rows and columns, print the first few rows).\n",
    "azdias.shape\n",
    "print(azdias.shape)\n",
    "print(azdias.head(n=10))\n",
    "\n"
   ]
  },
  {
   "cell_type": "code",
   "execution_count": 5,
   "metadata": {},
   "outputs": [
    {
     "data": {
      "text/html": [
       "<div>\n",
       "<style scoped>\n",
       "    .dataframe tbody tr th:only-of-type {\n",
       "        vertical-align: middle;\n",
       "    }\n",
       "\n",
       "    .dataframe tbody tr th {\n",
       "        vertical-align: top;\n",
       "    }\n",
       "\n",
       "    .dataframe thead th {\n",
       "        text-align: right;\n",
       "    }\n",
       "</style>\n",
       "<table border=\"1\" class=\"dataframe\">\n",
       "  <thead>\n",
       "    <tr style=\"text-align: right;\">\n",
       "      <th></th>\n",
       "      <th>AGER_TYP</th>\n",
       "      <th>ALTERSKATEGORIE_GROB</th>\n",
       "      <th>ANREDE_KZ</th>\n",
       "      <th>CJT_GESAMTTYP</th>\n",
       "      <th>FINANZ_MINIMALIST</th>\n",
       "      <th>FINANZ_SPARER</th>\n",
       "      <th>FINANZ_VORSORGER</th>\n",
       "      <th>FINANZ_ANLEGER</th>\n",
       "      <th>FINANZ_UNAUFFAELLIGER</th>\n",
       "      <th>FINANZ_HAUSBAUER</th>\n",
       "      <th>...</th>\n",
       "      <th>PLZ8_ANTG1</th>\n",
       "      <th>PLZ8_ANTG2</th>\n",
       "      <th>PLZ8_ANTG3</th>\n",
       "      <th>PLZ8_ANTG4</th>\n",
       "      <th>PLZ8_BAUMAX</th>\n",
       "      <th>PLZ8_HHZ</th>\n",
       "      <th>PLZ8_GBZ</th>\n",
       "      <th>ARBEIT</th>\n",
       "      <th>ORTSGR_KLS9</th>\n",
       "      <th>RELAT_AB</th>\n",
       "    </tr>\n",
       "  </thead>\n",
       "  <tbody>\n",
       "    <tr>\n",
       "      <th>count</th>\n",
       "      <td>891221.000000</td>\n",
       "      <td>891221.000000</td>\n",
       "      <td>891221.000000</td>\n",
       "      <td>886367.000000</td>\n",
       "      <td>891221.000000</td>\n",
       "      <td>891221.000000</td>\n",
       "      <td>891221.000000</td>\n",
       "      <td>891221.000000</td>\n",
       "      <td>891221.000000</td>\n",
       "      <td>891221.000000</td>\n",
       "      <td>...</td>\n",
       "      <td>774706.000000</td>\n",
       "      <td>774706.000000</td>\n",
       "      <td>774706.000000</td>\n",
       "      <td>774706.000000</td>\n",
       "      <td>774706.000000</td>\n",
       "      <td>774706.000000</td>\n",
       "      <td>774706.000000</td>\n",
       "      <td>794005.000000</td>\n",
       "      <td>794005.000000</td>\n",
       "      <td>794005.00000</td>\n",
       "    </tr>\n",
       "    <tr>\n",
       "      <th>mean</th>\n",
       "      <td>-0.358435</td>\n",
       "      <td>2.777398</td>\n",
       "      <td>1.522098</td>\n",
       "      <td>3.632838</td>\n",
       "      <td>3.074528</td>\n",
       "      <td>2.821039</td>\n",
       "      <td>3.401106</td>\n",
       "      <td>3.033328</td>\n",
       "      <td>2.874167</td>\n",
       "      <td>3.075121</td>\n",
       "      <td>...</td>\n",
       "      <td>2.253330</td>\n",
       "      <td>2.801858</td>\n",
       "      <td>1.595426</td>\n",
       "      <td>0.699166</td>\n",
       "      <td>1.943913</td>\n",
       "      <td>3.612821</td>\n",
       "      <td>3.381087</td>\n",
       "      <td>3.167854</td>\n",
       "      <td>5.293002</td>\n",
       "      <td>3.07222</td>\n",
       "    </tr>\n",
       "    <tr>\n",
       "      <th>std</th>\n",
       "      <td>1.198724</td>\n",
       "      <td>1.068775</td>\n",
       "      <td>0.499512</td>\n",
       "      <td>1.595021</td>\n",
       "      <td>1.321055</td>\n",
       "      <td>1.464749</td>\n",
       "      <td>1.322134</td>\n",
       "      <td>1.529603</td>\n",
       "      <td>1.486731</td>\n",
       "      <td>1.353248</td>\n",
       "      <td>...</td>\n",
       "      <td>0.972008</td>\n",
       "      <td>0.920309</td>\n",
       "      <td>0.986736</td>\n",
       "      <td>0.727137</td>\n",
       "      <td>1.459654</td>\n",
       "      <td>0.973967</td>\n",
       "      <td>1.111598</td>\n",
       "      <td>1.002376</td>\n",
       "      <td>2.303739</td>\n",
       "      <td>1.36298</td>\n",
       "    </tr>\n",
       "    <tr>\n",
       "      <th>min</th>\n",
       "      <td>-1.000000</td>\n",
       "      <td>1.000000</td>\n",
       "      <td>1.000000</td>\n",
       "      <td>1.000000</td>\n",
       "      <td>1.000000</td>\n",
       "      <td>1.000000</td>\n",
       "      <td>1.000000</td>\n",
       "      <td>1.000000</td>\n",
       "      <td>1.000000</td>\n",
       "      <td>1.000000</td>\n",
       "      <td>...</td>\n",
       "      <td>0.000000</td>\n",
       "      <td>0.000000</td>\n",
       "      <td>0.000000</td>\n",
       "      <td>0.000000</td>\n",
       "      <td>1.000000</td>\n",
       "      <td>1.000000</td>\n",
       "      <td>1.000000</td>\n",
       "      <td>1.000000</td>\n",
       "      <td>0.000000</td>\n",
       "      <td>1.00000</td>\n",
       "    </tr>\n",
       "    <tr>\n",
       "      <th>25%</th>\n",
       "      <td>-1.000000</td>\n",
       "      <td>2.000000</td>\n",
       "      <td>1.000000</td>\n",
       "      <td>2.000000</td>\n",
       "      <td>2.000000</td>\n",
       "      <td>1.000000</td>\n",
       "      <td>3.000000</td>\n",
       "      <td>2.000000</td>\n",
       "      <td>2.000000</td>\n",
       "      <td>2.000000</td>\n",
       "      <td>...</td>\n",
       "      <td>1.000000</td>\n",
       "      <td>2.000000</td>\n",
       "      <td>1.000000</td>\n",
       "      <td>0.000000</td>\n",
       "      <td>1.000000</td>\n",
       "      <td>3.000000</td>\n",
       "      <td>3.000000</td>\n",
       "      <td>3.000000</td>\n",
       "      <td>4.000000</td>\n",
       "      <td>2.00000</td>\n",
       "    </tr>\n",
       "    <tr>\n",
       "      <th>50%</th>\n",
       "      <td>-1.000000</td>\n",
       "      <td>3.000000</td>\n",
       "      <td>2.000000</td>\n",
       "      <td>4.000000</td>\n",
       "      <td>3.000000</td>\n",
       "      <td>3.000000</td>\n",
       "      <td>3.000000</td>\n",
       "      <td>3.000000</td>\n",
       "      <td>3.000000</td>\n",
       "      <td>3.000000</td>\n",
       "      <td>...</td>\n",
       "      <td>2.000000</td>\n",
       "      <td>3.000000</td>\n",
       "      <td>2.000000</td>\n",
       "      <td>1.000000</td>\n",
       "      <td>1.000000</td>\n",
       "      <td>4.000000</td>\n",
       "      <td>3.000000</td>\n",
       "      <td>3.000000</td>\n",
       "      <td>5.000000</td>\n",
       "      <td>3.00000</td>\n",
       "    </tr>\n",
       "    <tr>\n",
       "      <th>75%</th>\n",
       "      <td>-1.000000</td>\n",
       "      <td>4.000000</td>\n",
       "      <td>2.000000</td>\n",
       "      <td>5.000000</td>\n",
       "      <td>4.000000</td>\n",
       "      <td>4.000000</td>\n",
       "      <td>5.000000</td>\n",
       "      <td>5.000000</td>\n",
       "      <td>4.000000</td>\n",
       "      <td>4.000000</td>\n",
       "      <td>...</td>\n",
       "      <td>3.000000</td>\n",
       "      <td>3.000000</td>\n",
       "      <td>2.000000</td>\n",
       "      <td>1.000000</td>\n",
       "      <td>3.000000</td>\n",
       "      <td>4.000000</td>\n",
       "      <td>4.000000</td>\n",
       "      <td>4.000000</td>\n",
       "      <td>7.000000</td>\n",
       "      <td>4.00000</td>\n",
       "    </tr>\n",
       "    <tr>\n",
       "      <th>max</th>\n",
       "      <td>3.000000</td>\n",
       "      <td>9.000000</td>\n",
       "      <td>2.000000</td>\n",
       "      <td>6.000000</td>\n",
       "      <td>5.000000</td>\n",
       "      <td>5.000000</td>\n",
       "      <td>5.000000</td>\n",
       "      <td>5.000000</td>\n",
       "      <td>5.000000</td>\n",
       "      <td>5.000000</td>\n",
       "      <td>...</td>\n",
       "      <td>4.000000</td>\n",
       "      <td>4.000000</td>\n",
       "      <td>3.000000</td>\n",
       "      <td>2.000000</td>\n",
       "      <td>5.000000</td>\n",
       "      <td>5.000000</td>\n",
       "      <td>5.000000</td>\n",
       "      <td>9.000000</td>\n",
       "      <td>9.000000</td>\n",
       "      <td>9.00000</td>\n",
       "    </tr>\n",
       "  </tbody>\n",
       "</table>\n",
       "<p>8 rows × 81 columns</p>\n",
       "</div>"
      ],
      "text/plain": [
       "            AGER_TYP  ALTERSKATEGORIE_GROB      ANREDE_KZ  CJT_GESAMTTYP  \\\n",
       "count  891221.000000         891221.000000  891221.000000  886367.000000   \n",
       "mean       -0.358435              2.777398       1.522098       3.632838   \n",
       "std         1.198724              1.068775       0.499512       1.595021   \n",
       "min        -1.000000              1.000000       1.000000       1.000000   \n",
       "25%        -1.000000              2.000000       1.000000       2.000000   \n",
       "50%        -1.000000              3.000000       2.000000       4.000000   \n",
       "75%        -1.000000              4.000000       2.000000       5.000000   \n",
       "max         3.000000              9.000000       2.000000       6.000000   \n",
       "\n",
       "       FINANZ_MINIMALIST  FINANZ_SPARER  FINANZ_VORSORGER  FINANZ_ANLEGER  \\\n",
       "count      891221.000000  891221.000000     891221.000000   891221.000000   \n",
       "mean            3.074528       2.821039          3.401106        3.033328   \n",
       "std             1.321055       1.464749          1.322134        1.529603   \n",
       "min             1.000000       1.000000          1.000000        1.000000   \n",
       "25%             2.000000       1.000000          3.000000        2.000000   \n",
       "50%             3.000000       3.000000          3.000000        3.000000   \n",
       "75%             4.000000       4.000000          5.000000        5.000000   \n",
       "max             5.000000       5.000000          5.000000        5.000000   \n",
       "\n",
       "       FINANZ_UNAUFFAELLIGER  FINANZ_HAUSBAUER      ...          PLZ8_ANTG1  \\\n",
       "count          891221.000000     891221.000000      ...       774706.000000   \n",
       "mean                2.874167          3.075121      ...            2.253330   \n",
       "std                 1.486731          1.353248      ...            0.972008   \n",
       "min                 1.000000          1.000000      ...            0.000000   \n",
       "25%                 2.000000          2.000000      ...            1.000000   \n",
       "50%                 3.000000          3.000000      ...            2.000000   \n",
       "75%                 4.000000          4.000000      ...            3.000000   \n",
       "max                 5.000000          5.000000      ...            4.000000   \n",
       "\n",
       "          PLZ8_ANTG2     PLZ8_ANTG3     PLZ8_ANTG4    PLZ8_BAUMAX  \\\n",
       "count  774706.000000  774706.000000  774706.000000  774706.000000   \n",
       "mean        2.801858       1.595426       0.699166       1.943913   \n",
       "std         0.920309       0.986736       0.727137       1.459654   \n",
       "min         0.000000       0.000000       0.000000       1.000000   \n",
       "25%         2.000000       1.000000       0.000000       1.000000   \n",
       "50%         3.000000       2.000000       1.000000       1.000000   \n",
       "75%         3.000000       2.000000       1.000000       3.000000   \n",
       "max         4.000000       3.000000       2.000000       5.000000   \n",
       "\n",
       "            PLZ8_HHZ       PLZ8_GBZ         ARBEIT    ORTSGR_KLS9  \\\n",
       "count  774706.000000  774706.000000  794005.000000  794005.000000   \n",
       "mean        3.612821       3.381087       3.167854       5.293002   \n",
       "std         0.973967       1.111598       1.002376       2.303739   \n",
       "min         1.000000       1.000000       1.000000       0.000000   \n",
       "25%         3.000000       3.000000       3.000000       4.000000   \n",
       "50%         4.000000       3.000000       3.000000       5.000000   \n",
       "75%         4.000000       4.000000       4.000000       7.000000   \n",
       "max         5.000000       5.000000       9.000000       9.000000   \n",
       "\n",
       "           RELAT_AB  \n",
       "count  794005.00000  \n",
       "mean        3.07222  \n",
       "std         1.36298  \n",
       "min         1.00000  \n",
       "25%         2.00000  \n",
       "50%         3.00000  \n",
       "75%         4.00000  \n",
       "max         9.00000  \n",
       "\n",
       "[8 rows x 81 columns]"
      ]
     },
     "execution_count": 5,
     "metadata": {},
     "output_type": "execute_result"
    }
   ],
   "source": [
    "azdias.describe()"
   ]
  },
  {
   "cell_type": "code",
   "execution_count": 6,
   "metadata": {},
   "outputs": [
    {
     "name": "stdout",
     "output_type": "stream",
     "text": [
      "              attribute information_level         type missing_or_unknown\n",
      "35           SEMIO_KAEM            person      ordinal             [-1,9]\n",
      "36        SEMIO_PFLICHT            person      ordinal             [-1,9]\n",
      "37          SEMIO_TRADV            person      ordinal             [-1,9]\n",
      "38          SHOPPER_TYP            person  categorical               [-1]\n",
      "39              SOHO_KZ            person  categorical               [-1]\n",
      "40             TITEL_KZ            person  categorical             [-1,0]\n",
      "41             VERS_TYP            person  categorical               [-1]\n",
      "42             ZABEOTYP            person  categorical             [-1,9]\n",
      "43             ALTER_HH         household     interval                [0]\n",
      "44         ANZ_PERSONEN         household      numeric                 []\n",
      "45            ANZ_TITEL         household      numeric                 []\n",
      "46   HH_EINKOMMEN_SCORE         household      ordinal             [-1,0]\n",
      "47         KK_KUNDENTYP         household  categorical               [-1]\n",
      "48       W_KEIT_KIND_HH         household      ordinal             [-1,0]\n",
      "49       WOHNDAUER_2008         household      ordinal             [-1,0]\n",
      "50  ANZ_HAUSHALTE_AKTIV          building      numeric                [0]\n",
      "51         ANZ_HH_TITEL          building      numeric                 []\n",
      "52          GEBAEUDETYP          building  categorical             [-1,0]\n",
      "53          KONSUMNAEHE          building      ordinal                 []\n",
      "54     MIN_GEBAEUDEJAHR          building      numeric                [0]\n",
      "55          OST_WEST_KZ          building  categorical               [-1]\n",
      "56             WOHNLAGE          building        mixed               [-1]\n",
      "57      CAMEO_DEUG_2015     microcell_rr4  categorical             [-1,X]\n",
      "58       CAMEO_DEU_2015     microcell_rr4  categorical               [XX]\n",
      "59      CAMEO_INTL_2015     microcell_rr4        mixed            [-1,XX]\n",
      "60          KBA05_ANTG1     microcell_rr3      ordinal               [-1]\n",
      "61          KBA05_ANTG2     microcell_rr3      ordinal               [-1]\n",
      "62          KBA05_ANTG3     microcell_rr3      ordinal               [-1]\n",
      "63          KBA05_ANTG4     microcell_rr3      ordinal               [-1]\n",
      "64         KBA05_BAUMAX     microcell_rr3        mixed             [-1,0]\n",
      "65            KBA05_GBZ     microcell_rr3      ordinal             [-1,0]\n",
      "66             BALLRAUM          postcode      ordinal               [-1]\n",
      "67             EWDICHTE          postcode      ordinal               [-1]\n",
      "68           INNENSTADT          postcode      ordinal               [-1]\n",
      "69   GEBAEUDETYP_RASTER        region_rr1      ordinal                 []\n",
      "70                  KKK        region_rr1      ordinal             [-1,0]\n",
      "71           MOBI_REGIO        region_rr1      ordinal                 []\n",
      "72    ONLINE_AFFINITAET        region_rr1      ordinal                 []\n",
      "73             REGIOTYP        region_rr1      ordinal             [-1,0]\n",
      "74     KBA13_ANZAHL_PKW    macrocell_plz8      numeric                 []\n",
      "75           PLZ8_ANTG1    macrocell_plz8      ordinal               [-1]\n",
      "76           PLZ8_ANTG2    macrocell_plz8      ordinal               [-1]\n",
      "77           PLZ8_ANTG3    macrocell_plz8      ordinal               [-1]\n",
      "78           PLZ8_ANTG4    macrocell_plz8      ordinal               [-1]\n",
      "79          PLZ8_BAUMAX    macrocell_plz8        mixed             [-1,0]\n",
      "80             PLZ8_HHZ    macrocell_plz8      ordinal               [-1]\n",
      "81             PLZ8_GBZ    macrocell_plz8      ordinal               [-1]\n",
      "82               ARBEIT         community      ordinal             [-1,9]\n",
      "83          ORTSGR_KLS9         community      ordinal             [-1,0]\n",
      "84             RELAT_AB         community      ordinal             [-1,9]\n"
     ]
    }
   ],
   "source": [
    "print(feat_info.tail(50))"
   ]
  },
  {
   "cell_type": "markdown",
   "metadata": {},
   "source": [
    "\n",
    "## Step 1: Preprocessing\n",
    "\n",
    "### Step 1.1: Assess Missing Data\n"
   ]
  },
  {
   "cell_type": "markdown",
   "metadata": {},
   "source": [
    "#### Step 1.1.2: Assess Missing Data in Each Column\n"
   ]
  },
  {
   "cell_type": "code",
   "execution_count": 7,
   "metadata": {},
   "outputs": [],
   "source": [
    "# make a dictionary of converting the string to list of integers\n",
    "convert_dict = {'[-1,0]' : [-1,0],\n",
    "          '[-1,0,9]': [-1,0,9],\n",
    "          '[-1, 0, 9]': [-1,0,9],\n",
    "          '[0]': [0],\n",
    "          '[-1]': [-1],\n",
    "          '[]': [],\n",
    "          '[-1,X]': [-1,'X'],\n",
    "          '[-1,XX]': [-1,'XX'],\n",
    "          '[XX]': ['XX'],\n",
    "          '[-1,9]' : [-1,9],\n",
    "          '[-1.0]': [-1.0]}\n",
    "   \n",
    "    \n",
    "feat_info_dic=dict (zip(feat_info['attribute'], feat_info['missing_or_unknown']))\n"
   ]
  },
  {
   "cell_type": "code",
   "execution_count": 8,
   "metadata": {},
   "outputs": [
    {
     "name": "stdout",
     "output_type": "stream",
     "text": [
      "(891221, 85)\n"
     ]
    }
   ],
   "source": [
    "# Identify missing or unknown data values and convert them to NaNs.\n",
    "for i in azdias.columns:\n",
    "    for j in convert_dict [str(feat_info_dic[i])]:\n",
    "        azdias[i] = azdias[i].replace(j, np.NaN)\n",
    "azdias.head(20)\n",
    "print(azdias.shape)\n"
   ]
  },
  {
   "cell_type": "code",
   "execution_count": 9,
   "metadata": {},
   "outputs": [
    {
     "name": "stdout",
     "output_type": "stream",
     "text": [
      "(85,)\n",
      "(891221, 85)\n"
     ]
    },
    {
     "data": {
      "image/png": "[encoded data removed]",
      "text/plain": [
       "<Figure size 1296x1080 with 1 Axes>"
      ]
     },
     "metadata": {},
     "output_type": "display_data"
    }
   ],
   "source": [
    "# Perform an assessment of how much missing data there is in each column of the\n",
    "# dataset.\n",
    "null_counts=azdias.isnull().sum(0)/azdias.shape[0]\n",
    "plt.figure(figsize=(18,15))\n",
    "plt.xticks(np.arange(len(null_counts))+0.5, null_counts.index, rotation='vertical')\n",
    "plt.bar(np.arange(len(null_counts)),null_counts)\n",
    "print(null_counts.shape)\n",
    "print(azdias.shape)\n"
   ]
  },
  {
   "cell_type": "code",
   "execution_count": 10,
   "metadata": {},
   "outputs": [
    {
     "name": "stdout",
     "output_type": "stream",
     "text": [
      "9\n",
      "['AGER_TYP', 'GEBURTSJAHR', 'TITEL_KZ', 'ALTER_HH', 'KK_KUNDENTYP', 'W_KEIT_KIND_HH', 'KBA05_BAUMAX', 'KKK', 'REGIOTYP']\n",
      "(891221, 85)\n"
     ]
    }
   ],
   "source": [
    "# Investigate patterns in the amount of missing data in each column.\n",
    "col_null_list=[]\n",
    "for i in null_counts.index:\n",
    "    if null_counts[i]> 0.15:\n",
    "        col_null_list.append(i)\n",
    "\n",
    "print(len(col_null_list))        \n",
    "print (col_null_list)\n",
    "\n",
    "print(azdias.shape)\n"
   ]
  },
  {
   "cell_type": "code",
   "execution_count": 11,
   "metadata": {},
   "outputs": [
    {
     "name": "stdout",
     "output_type": "stream",
     "text": [
      "(891221, 76)\n"
     ]
    }
   ],
   "source": [
    "# Remove the outlier columns from the dataset. (You'll perform other data\n",
    "# engineering tasks such as re-encoding and imputation later.)\n",
    "azdias.drop(col_null_list, axis=1, inplace=True)\n",
    "print (azdias.shape)"
   ]
  },
  {
   "cell_type": "markdown",
   "metadata": {},
   "source": [
    "#### Step 1.1.3: Assess Missing Data in Each Row\n",
    "\n"
   ]
  },
  {
   "cell_type": "code",
   "execution_count": 12,
   "metadata": {},
   "outputs": [
    {
     "data": {
      "text/plain": [
       "(891221,)"
      ]
     },
     "execution_count": 12,
     "metadata": {},
     "output_type": "execute_result"
    }
   ],
   "source": [
    "# How much data is missing in each row of the dataset?\n",
    "\n",
    "null_rows=azdias.isnull().sum(1)/azdias.shape[1]\n",
    "null_rows.shape"
   ]
  },
  {
   "cell_type": "code",
   "execution_count": 13,
   "metadata": {},
   "outputs": [],
   "source": [
    "# Write code to divide the data into two subsets based on the number of missing\n",
    "# values in each row.\n",
    "\n",
    "Null=[]\n",
    "Null_index=[]\n",
    "for i in null_rows.index:\n",
    "    if null_rows[i]> 0.02:\n",
    "        Null.append('samples_high_null')\n",
    "        Null_index.append(i)\n",
    "    else:\n",
    "        Null.append('samples_low_null')\n",
    "        "
   ]
  },
  {
   "cell_type": "code",
   "execution_count": 14,
   "metadata": {},
   "outputs": [
    {
     "data": {
      "image/png": "[encoded data removed]",
      "text/plain": [
       "<Figure size 432x288 with 1 Axes>"
      ]
     },
     "metadata": {},
     "output_type": "display_data"
    }
   ],
   "source": [
    "# Compare the distribution of values for at least five columns where there are\n",
    "# no or few missing values, between the two subsets.\n",
    "\n",
    "sns.set(style=\"darkgrid\")\n",
    "ax= sns.countplot(azdias['PLZ8_GBZ'], hue= Null, data=azdias)"
   ]
  },
  {
   "cell_type": "code",
   "execution_count": 15,
   "metadata": {},
   "outputs": [
    {
     "data": {
      "image/png": "[encoded data removed]",
      "text/plain": [
       "<Figure size 432x288 with 1 Axes>"
      ]
     },
     "metadata": {},
     "output_type": "display_data"
    }
   ],
   "source": [
    "ax2= sns.countplot(azdias['ORTSGR_KLS9'], hue= Null, data=azdias)"
   ]
  },
  {
   "cell_type": "code",
   "execution_count": 16,
   "metadata": {},
   "outputs": [
    {
     "data": {
      "image/png": "[encoded data removed]",
      "text/plain": [
       "<Figure size 432x288 with 1 Axes>"
      ]
     },
     "metadata": {},
     "output_type": "display_data"
    }
   ],
   "source": [
    "ax3 = sns.countplot(x=azdias['SEMIO_ERL'], hue= Null, data=azdias)"
   ]
  },
  {
   "cell_type": "code",
   "execution_count": 17,
   "metadata": {},
   "outputs": [
    {
     "data": {
      "image/png": "[encoded data removed]",
      "text/plain": [
       "<Figure size 432x288 with 1 Axes>"
      ]
     },
     "metadata": {},
     "output_type": "display_data"
    }
   ],
   "source": [
    "ax4 = sns.countplot(x=azdias['LP_STATUS_FEIN'], hue= Null, data=azdias)"
   ]
  },
  {
   "cell_type": "code",
   "execution_count": 18,
   "metadata": {},
   "outputs": [
    {
     "data": {
      "image/png": "[encoded data removed]",
      "text/plain": [
       "<Figure size 432x288 with 1 Axes>"
      ]
     },
     "metadata": {},
     "output_type": "display_data"
    }
   ],
   "source": [
    "ax5 = sns.countplot(azdias['CJT_GESAMTTYP'], hue= Null, data=azdias)"
   ]
  },
  {
   "cell_type": "code",
   "execution_count": 19,
   "metadata": {},
   "outputs": [
    {
     "name": "stdout",
     "output_type": "stream",
     "text": [
      "(677466, 76)\n"
     ]
    }
   ],
   "source": [
    "azdias.drop(azdias.index[Null_index], inplace=True)\n",
    "print(azdias.shape)"
   ]
  },
  {
   "cell_type": "markdown",
   "metadata": {},
   "source": [
    "### Step 1.2: Select and Re-Encode Features\n"
   ]
  },
  {
   "cell_type": "code",
   "execution_count": 20,
   "metadata": {},
   "outputs": [
    {
     "data": {
      "text/plain": [
       "type\n",
       "categorical    21\n",
       "interval        1\n",
       "mixed           7\n",
       "numeric         7\n",
       "ordinal        49\n",
       "dtype: int64"
      ]
     },
     "execution_count": 20,
     "metadata": {},
     "output_type": "execute_result"
    }
   ],
   "source": [
    "# How many features are there of each data type?\n",
    "\n",
    "feat_info.groupby('type').size()\n"
   ]
  },
  {
   "cell_type": "markdown",
   "metadata": {},
   "source": [
    "#### Step 1.2.1: Re-Encode Categorical Features\n"
   ]
  },
  {
   "cell_type": "code",
   "execution_count": 10,
   "metadata": {},
   "outputs": [
    {
     "data": {
      "text/plain": [
       "(891221, 72)"
      ]
     },
     "execution_count": 10,
     "metadata": {},
     "output_type": "execute_result"
    }
   ],
   "source": [
    "# Assess categorical variables: which are binary, which are multi-level, and\n",
    "# which one needs to be re-encoded?\n",
    "drop_list=['CJT_GESAMTTYP', 'FINANZTYP', 'GFK_URLAUBERTYP', 'LP_FAMILIE_FEIN', 'LP_FAMILIE_GROB', 'LP_STATUS_FEIN', \n",
    "        'LP_STATUS_GROB','NATIONALITAET_KZ', 'SHOPPER_TYP', 'ZABEOTYP', 'GEBAEUDETYP',\n",
    "            'CAMEO_DEUG_2015', 'CAMEO_DEU_2015']\n",
    "azdias.drop(drop_list, axis=1, inplace=True )\n",
    "azdias.shape"
   ]
  },
  {
   "cell_type": "code",
   "execution_count": 11,
   "metadata": {},
   "outputs": [
    {
     "data": {
      "text/plain": [
       "(891221, 72)"
      ]
     },
     "execution_count": 11,
     "metadata": {},
     "output_type": "execute_result"
    }
   ],
   "source": [
    "# Re-encode categorical variable(s) to be kept in the analysis.\n",
    "\n",
    "binary_cat_to_num={'OST_WEST_KZ':     {\"O\": 0, \"W\": 1}}\n",
    "azdias.replace(binary_cat_to_num, inplace=True)\n",
    "azdias['OST_WEST_KZ'].head(15)\n",
    "azdias.shape"
   ]
  },
  {
   "cell_type": "markdown",
   "metadata": {},
   "source": [
    "#### Step 1.2.2: Engineer Mixed-Type Features\n"
   ]
  },
  {
   "cell_type": "code",
   "execution_count": 12,
   "metadata": {},
   "outputs": [
    {
     "data": {
      "text/plain": [
       "(891221, 68)"
      ]
     },
     "execution_count": 12,
     "metadata": {},
     "output_type": "execute_result"
    }
   ],
   "source": [
    "drop_list_mixed=['LP_LEBENSPHASE_GROB', 'LP_LEBENSPHASE_FEIN', 'WOHNLAGE', 'PLZ8_BAUMAX']\n",
    "azdias.drop(drop_list_mixed,axis=1, inplace=True )\n",
    "azdias.shape"
   ]
  },
  {
   "cell_type": "code",
   "execution_count": 13,
   "metadata": {},
   "outputs": [
    {
     "name": "stdout",
     "output_type": "stream",
     "text": [
      "(891221, 69)\n"
     ]
    }
   ],
   "source": [
    "# Investigate \"PRAEGENDE_JUGENDJAHRE\" and engineer two new variables.\n",
    "azdias['PRAEGENDE_JUGENDJAHRE_movement']=azdias['PRAEGENDE_JUGENDJAHRE']\n",
    "#print (azdias['PRAEGENDE_JUGENDJAHRE_movement'])\n",
    "movement_dict = {'PRAEGENDE_JUGENDJAHRE_movement': {1:0, 2:-1, 3:0, 4:-1, 5:0,  6:-1, 7:-1, 8:0, 9:-1, 10:0, 11:-1, 12:0,\n",
    "                                       13:-1, 14:0, 15:-1}}\n",
    "\n",
    "azdias.replace (movement_dict, inplace=True)\n",
    "    \n",
    "#print(azdias['PRAEGENDE_JUGENDJAHRE_movement'])\n",
    "print (azdias.shape)"
   ]
  },
  {
   "cell_type": "code",
   "execution_count": 14,
   "metadata": {},
   "outputs": [
    {
     "data": {
      "text/plain": [
       "(891221, 70)"
      ]
     },
     "execution_count": 14,
     "metadata": {},
     "output_type": "execute_result"
    }
   ],
   "source": [
    "azdias['PRAEGENDE_JUGENDJAHRE_decade']=azdias['PRAEGENDE_JUGENDJAHRE']\n",
    "\n",
    "decade_dict = {'PRAEGENDE_JUGENDJAHRE_decade': {1:40, 2: 40, 3: 50, 4: 50, 5: 60,  6: 60, 7:60, 8:70, 9: 70, 10: 80, 11: 80, 12: 80,\n",
    "                                       13: 80, 14: 90, 15: 90}}\n",
    "\n",
    "azdias.replace (decade_dict, inplace=True)\n",
    "\n",
    "#print(azdias['PRAEGENDE_JUGENDJAHRE_decade'])\n",
    "azdias.shape"
   ]
  },
  {
   "cell_type": "code",
   "execution_count": 15,
   "metadata": {},
   "outputs": [
    {
     "name": "stdout",
     "output_type": "stream",
     "text": [
      "(891221, 69)\n"
     ]
    }
   ],
   "source": [
    "azdias.drop ('PRAEGENDE_JUGENDJAHRE', axis=1, inplace=True)\n",
    "print(azdias.shape)"
   ]
  },
  {
   "cell_type": "code",
   "execution_count": 16,
   "metadata": {},
   "outputs": [
    {
     "name": "stdout",
     "output_type": "stream",
     "text": [
      "(891221, 70)\n"
     ]
    }
   ],
   "source": [
    "# Investigate \"CAMEO_INTL_2015\" and engineer two new variables.\n",
    "\n",
    "azdias['CAMEO_INTL_2015_tens']=azdias['CAMEO_INTL_2015']\n",
    "\n",
    "tens_dict = {'CAMEO_INTL_2015_tens': {11:1, 12:1 , 13:1, 14:1, 15:1,  21:2, 22:2, 23:2, 24:2, 25:2, 31:3, 32:3, \n",
    "                                        33:3, 34:3, 35:3, 41:4 , 42:4 , 43:4 , 44:4, 45:4 , 51:5 , 52:5 , 53:5 ,54:5, 55:5}}\n",
    "\n",
    "azdias.replace (tens_dict, inplace=True)\n",
    "print(azdias.shape)"
   ]
  },
  {
   "cell_type": "code",
   "execution_count": 17,
   "metadata": {},
   "outputs": [
    {
     "name": "stdout",
     "output_type": "stream",
     "text": [
      "(891221, 71)\n"
     ]
    }
   ],
   "source": [
    "# Investigate \"CAMEO_INTL_2015\" and engineer two new variables.\n",
    "\n",
    "azdias['CAMEO_INTL_2015_ones']=azdias['CAMEO_INTL_2015']\n",
    "\n",
    "ones_dict = {'CAMEO_INTL_2015_ones': {11:1, 12:2 , 13:3, 14:4, 15:5,  21:1, 22:2, 23:3, 24:4, 25:5, 31:1, 32:2, \n",
    "                                        33:3, 34:4, 35:5, 41:1 , 42:2 , 43:3 , 44:4, 45:5 , 51:1 , 52:2 , 53:3 ,54:4 , 55:5 }}\n",
    "\n",
    "azdias.replace (ones_dict, inplace=True)\n",
    "print(azdias.shape)"
   ]
  },
  {
   "cell_type": "code",
   "execution_count": 18,
   "metadata": {},
   "outputs": [
    {
     "name": "stdout",
     "output_type": "stream",
     "text": [
      "(891221, 70)\n"
     ]
    }
   ],
   "source": [
    "azdias.drop ('CAMEO_INTL_2015', axis=1, inplace=True)\n",
    "print(azdias.shape)"
   ]
  },
  {
   "cell_type": "code",
   "execution_count": 19,
   "metadata": {},
   "outputs": [
    {
     "name": "stdout",
     "output_type": "stream",
     "text": [
      "Index(['AGER_TYP', 'ALTERSKATEGORIE_GROB', 'ANREDE_KZ', 'FINANZ_MINIMALIST',\n",
      "       'FINANZ_SPARER', 'FINANZ_VORSORGER', 'FINANZ_ANLEGER',\n",
      "       'FINANZ_UNAUFFAELLIGER', 'FINANZ_HAUSBAUER', 'GEBURTSJAHR',\n",
      "       'GREEN_AVANTGARDE', 'HEALTH_TYP', 'RETOURTYP_BK_S', 'SEMIO_SOZ',\n",
      "       'SEMIO_FAM', 'SEMIO_REL', 'SEMIO_MAT', 'SEMIO_VERT', 'SEMIO_LUST',\n",
      "       'SEMIO_ERL', 'SEMIO_KULT', 'SEMIO_RAT', 'SEMIO_KRIT', 'SEMIO_DOM',\n",
      "       'SEMIO_KAEM', 'SEMIO_PFLICHT', 'SEMIO_TRADV', 'SOHO_KZ', 'TITEL_KZ',\n",
      "       'VERS_TYP', 'ALTER_HH', 'ANZ_PERSONEN', 'ANZ_TITEL',\n",
      "       'HH_EINKOMMEN_SCORE', 'KK_KUNDENTYP', 'W_KEIT_KIND_HH',\n",
      "       'WOHNDAUER_2008', 'ANZ_HAUSHALTE_AKTIV', 'ANZ_HH_TITEL', 'KONSUMNAEHE',\n",
      "       'MIN_GEBAEUDEJAHR', 'OST_WEST_KZ', 'KBA05_ANTG1', 'KBA05_ANTG2',\n",
      "       'KBA05_ANTG3', 'KBA05_ANTG4', 'KBA05_BAUMAX', 'KBA05_GBZ', 'BALLRAUM',\n",
      "       'EWDICHTE', 'INNENSTADT', 'GEBAEUDETYP_RASTER', 'KKK', 'MOBI_REGIO',\n",
      "       'ONLINE_AFFINITAET', 'REGIOTYP', 'KBA13_ANZAHL_PKW', 'PLZ8_ANTG1',\n",
      "       'PLZ8_ANTG2', 'PLZ8_ANTG3', 'PLZ8_ANTG4', 'PLZ8_HHZ', 'PLZ8_GBZ',\n",
      "       'ARBEIT', 'ORTSGR_KLS9', 'RELAT_AB', 'PRAEGENDE_JUGENDJAHRE_movement',\n",
      "       'PRAEGENDE_JUGENDJAHRE_decade', 'CAMEO_INTL_2015_tens',\n",
      "       'CAMEO_INTL_2015_ones'],\n",
      "      dtype='object')\n"
     ]
    }
   ],
   "source": [
    "col_names=azdias.columns\n",
    "print(col_names)"
   ]
  },
  {
   "cell_type": "markdown",
   "metadata": {},
   "source": [
    "#### Step 1.2.3: Complete Feature Selection\n"
   ]
  },
  {
   "cell_type": "markdown",
   "metadata": {},
   "source": [
    "### Step 1.3: Create a Cleaning Function\n"
   ]
  },
  {
   "cell_type": "code",
   "execution_count": 20,
   "metadata": {},
   "outputs": [],
   "source": [
    "def clean_data(df, null_list):\n",
    "    \"\"\"\n",
    "    Perform feature trimming, re-encoding, and engineering for demographics\n",
    "    data\n",
    "    \n",
    "    INPUT: Demographics DataFrame\n",
    "    OUTPUT: Trimmed and cleaned demographics DataFrame\n",
    "    \"\"\"\n",
    "    \n",
    "    # Put in code here to execute all main cleaning steps:\n",
    "    # convert missing value codes into NaNs, ...\n",
    "\n",
    "    for i in df.columns:\n",
    "        for j in convert_dict [str(feat_info_dic[i])]:\n",
    "            df[i] = df[i].replace(j, np.NaN)\n",
    "            \n",
    "    \n",
    "    df.drop(null_list, axis=1, inplace=True)\n",
    "    \n",
    "    #Null rows\n",
    "    null_rows=df.isnull().sum(1)/df.shape[1]\n",
    "    Null=[]\n",
    "    Null_index=[]\n",
    "    for i in null_rows.index:\n",
    "        if null_rows[i]> 0.02:\n",
    "            Null.append(1)\n",
    "            Null_index.append(i)\n",
    "        else:\n",
    "            Null.append(0)\n",
    "     \n",
    "    # select, re-encode, and engineer column values.\n",
    "\n",
    "    df.drop(df.index[Null_index], inplace=True)\n",
    "    \n",
    "    drop_list=['CJT_GESAMTTYP', 'FINANZTYP', 'GFK_URLAUBERTYP', 'LP_FAMILIE_FEIN', 'LP_FAMILIE_GROB', 'LP_STATUS_FEIN', \n",
    "        'LP_STATUS_GROB','NATIONALITAET_KZ', 'SHOPPER_TYP', 'ZABEOTYP', 'GEBAEUDETYP',\n",
    "            'CAMEO_DEUG_2015', 'CAMEO_DEU_2015']\n",
    "    df.drop(drop_list, axis=1, inplace=True)\n",
    "        \n",
    "    #Re-encode binary categorical variable\n",
    "    binary_cat_to_num={'OST_WEST_KZ':     {\"O\": 0, \"W\": 1}}\n",
    "    df.replace(binary_cat_to_num, inplace=True)\n",
    "    \n",
    "    #Drop mixed type features\n",
    "    drop_list_mixed=['LP_LEBENSPHASE_GROB', 'LP_LEBENSPHASE_FEIN', 'WOHNLAGE', 'PLZ8_BAUMAX']\n",
    "    df.drop(drop_list_mixed,axis=1, inplace=True )\n",
    "    \n",
    "    \n",
    "    # Investigate \"PRAEGENDE_JUGENDJAHRE\" and engineer two new variables.\n",
    "    df['PRAEGENDE_JUGENDJAHRE_movement']=df['PRAEGENDE_JUGENDJAHRE']\n",
    "    movement_dict = {'PRAEGENDE_JUGENDJAHRE_movement': {1:0, 2:-1, 3:0, 4:-1, 5:0,  6:-1, 7:-1, 8:0, 9:-1, 10:0, 11:-1, 12:0,\n",
    "                                          13:-1, 14:0, 15:-1}}\n",
    "    df.replace (movement_dict, inplace=True)\n",
    "    \n",
    "    \n",
    "    df['PRAEGENDE_JUGENDJAHRE_decade']=df['PRAEGENDE_JUGENDJAHRE']\n",
    "    decade_dict = {'PRAEGENDE_JUGENDJAHRE_decade': {1:40, 2: 40, 3: 50, 4: 50, 5: 60,  6: 60, 7:60, 8:70, 9: 70, 10: 80, 11: 80, 12: 80,\n",
    "                                       13: 80, 14: 90, 15: 90}}\n",
    "    df.replace (decade_dict, inplace=True)\n",
    "    \n",
    "    # Investigate \"CAMEO_INTL_2015\" and engineer two new variables.\n",
    "\n",
    "    df['CAMEO_INTL_2015_tens']=df['CAMEO_INTL_2015']\n",
    "    tens_dict = {'CAMEO_INTL_2015_tens': {11:1, 12:1 , 13:1, 14:1, 15:1,  21:2, 22:2, 23:2, 24:2, 25:2, 31:3, 32:3, \n",
    "                                        33:3, 34:3, 35:3, 41:4 , 42:4 , 43:4 , 44:4, 45:4 , 51:5 , 52:5 , 53:5 ,54:5, 55:5}}\n",
    "    df.replace (tens_dict, inplace=True)\n",
    "    \n",
    "    \n",
    "    df['CAMEO_INTL_2015_ones']=df['CAMEO_INTL_2015']\n",
    "    ones_dict = {'CAMEO_INTL_2015_ones': {11:1, 12:2 , 13:3, 14:4, 15:5,  21:1, 22:2, 23:3, 24:4, 25:5, 31:1, 32:2, \n",
    "                                        33:3, 34:4, 35:5, 41:1 , 42:2 , 43:3 , 44:4, 45:5 , 51:1 , 52:2 , 53:3 ,54:4 , 55:5 }}\n",
    "    df.replace (ones_dict, inplace=True)\n",
    "    \n",
    "    df.drop ('CAMEO_INTL_2015', axis=1, inplace=True)\n",
    "    \n",
    "    #replace NaNs\n",
    "    imp = preprocessing.Imputer(missing_values='NaN', strategy='most_frequent',axis=0)\n",
    "    df=pd.DataFrame(imp.fit_transform(df))\n",
    "    \n",
    "    # Return the cleaned dataframe.\n",
    "    \n",
    "    return df"
   ]
  },
  {
   "cell_type": "markdown",
   "metadata": {},
   "source": [
    "## Step 2: Feature Transformation\n",
    "\n",
    "### Step 2.1: Apply Feature Scaling\n",
    "\n"
   ]
  },
  {
   "cell_type": "code",
   "execution_count": 21,
   "metadata": {},
   "outputs": [
    {
     "name": "stdout",
     "output_type": "stream",
     "text": [
      "0\n"
     ]
    },
    {
     "data": {
      "text/html": [
       "<div>\n",
       "<style scoped>\n",
       "    .dataframe tbody tr th:only-of-type {\n",
       "        vertical-align: middle;\n",
       "    }\n",
       "\n",
       "    .dataframe tbody tr th {\n",
       "        vertical-align: top;\n",
       "    }\n",
       "\n",
       "    .dataframe thead tr th {\n",
       "        text-align: left;\n",
       "    }\n",
       "</style>\n",
       "<table border=\"1\" class=\"dataframe\">\n",
       "  <thead>\n",
       "    <tr>\n",
       "      <th></th>\n",
       "      <th>AGER_TYP</th>\n",
       "      <th>ALTERSKATEGORIE_GROB</th>\n",
       "      <th>ANREDE_KZ</th>\n",
       "      <th>FINANZ_MINIMALIST</th>\n",
       "      <th>FINANZ_SPARER</th>\n",
       "      <th>FINANZ_VORSORGER</th>\n",
       "      <th>FINANZ_ANLEGER</th>\n",
       "      <th>FINANZ_UNAUFFAELLIGER</th>\n",
       "      <th>FINANZ_HAUSBAUER</th>\n",
       "      <th>GEBURTSJAHR</th>\n",
       "      <th>...</th>\n",
       "      <th>PLZ8_ANTG4</th>\n",
       "      <th>PLZ8_HHZ</th>\n",
       "      <th>PLZ8_GBZ</th>\n",
       "      <th>ARBEIT</th>\n",
       "      <th>ORTSGR_KLS9</th>\n",
       "      <th>RELAT_AB</th>\n",
       "      <th>PRAEGENDE_JUGENDJAHRE_movement</th>\n",
       "      <th>PRAEGENDE_JUGENDJAHRE_decade</th>\n",
       "      <th>CAMEO_INTL_2015_tens</th>\n",
       "      <th>CAMEO_INTL_2015_ones</th>\n",
       "    </tr>\n",
       "  </thead>\n",
       "  <tbody>\n",
       "    <tr>\n",
       "      <th>0</th>\n",
       "      <td>2.0</td>\n",
       "      <td>2.0</td>\n",
       "      <td>1.0</td>\n",
       "      <td>3.0</td>\n",
       "      <td>4.0</td>\n",
       "      <td>3.0</td>\n",
       "      <td>5.0</td>\n",
       "      <td>5.0</td>\n",
       "      <td>3.0</td>\n",
       "      <td>1967.0</td>\n",
       "      <td>...</td>\n",
       "      <td>0.0</td>\n",
       "      <td>3.0</td>\n",
       "      <td>3.0</td>\n",
       "      <td>4.0</td>\n",
       "      <td>5.0</td>\n",
       "      <td>3.0</td>\n",
       "      <td>0.0</td>\n",
       "      <td>90.0</td>\n",
       "      <td>51.0</td>\n",
       "      <td>51.0</td>\n",
       "    </tr>\n",
       "    <tr>\n",
       "      <th>1</th>\n",
       "      <td>2.0</td>\n",
       "      <td>1.0</td>\n",
       "      <td>2.0</td>\n",
       "      <td>1.0</td>\n",
       "      <td>5.0</td>\n",
       "      <td>2.0</td>\n",
       "      <td>5.0</td>\n",
       "      <td>4.0</td>\n",
       "      <td>5.0</td>\n",
       "      <td>1996.0</td>\n",
       "      <td>...</td>\n",
       "      <td>1.0</td>\n",
       "      <td>5.0</td>\n",
       "      <td>4.0</td>\n",
       "      <td>3.0</td>\n",
       "      <td>5.0</td>\n",
       "      <td>4.0</td>\n",
       "      <td>0.0</td>\n",
       "      <td>90.0</td>\n",
       "      <td>51.0</td>\n",
       "      <td>51.0</td>\n",
       "    </tr>\n",
       "    <tr>\n",
       "      <th>2</th>\n",
       "      <td>2.0</td>\n",
       "      <td>3.0</td>\n",
       "      <td>2.0</td>\n",
       "      <td>1.0</td>\n",
       "      <td>4.0</td>\n",
       "      <td>1.0</td>\n",
       "      <td>2.0</td>\n",
       "      <td>3.0</td>\n",
       "      <td>5.0</td>\n",
       "      <td>1979.0</td>\n",
       "      <td>...</td>\n",
       "      <td>0.0</td>\n",
       "      <td>4.0</td>\n",
       "      <td>4.0</td>\n",
       "      <td>3.0</td>\n",
       "      <td>5.0</td>\n",
       "      <td>2.0</td>\n",
       "      <td>-1.0</td>\n",
       "      <td>90.0</td>\n",
       "      <td>24.0</td>\n",
       "      <td>24.0</td>\n",
       "    </tr>\n",
       "    <tr>\n",
       "      <th>3</th>\n",
       "      <td>2.0</td>\n",
       "      <td>4.0</td>\n",
       "      <td>2.0</td>\n",
       "      <td>4.0</td>\n",
       "      <td>2.0</td>\n",
       "      <td>5.0</td>\n",
       "      <td>2.0</td>\n",
       "      <td>1.0</td>\n",
       "      <td>2.0</td>\n",
       "      <td>1957.0</td>\n",
       "      <td>...</td>\n",
       "      <td>0.0</td>\n",
       "      <td>3.0</td>\n",
       "      <td>4.0</td>\n",
       "      <td>2.0</td>\n",
       "      <td>3.0</td>\n",
       "      <td>3.0</td>\n",
       "      <td>0.0</td>\n",
       "      <td>70.0</td>\n",
       "      <td>12.0</td>\n",
       "      <td>12.0</td>\n",
       "    </tr>\n",
       "    <tr>\n",
       "      <th>4</th>\n",
       "      <td>2.0</td>\n",
       "      <td>3.0</td>\n",
       "      <td>1.0</td>\n",
       "      <td>4.0</td>\n",
       "      <td>3.0</td>\n",
       "      <td>4.0</td>\n",
       "      <td>1.0</td>\n",
       "      <td>3.0</td>\n",
       "      <td>2.0</td>\n",
       "      <td>1963.0</td>\n",
       "      <td>...</td>\n",
       "      <td>1.0</td>\n",
       "      <td>3.0</td>\n",
       "      <td>3.0</td>\n",
       "      <td>4.0</td>\n",
       "      <td>6.0</td>\n",
       "      <td>5.0</td>\n",
       "      <td>0.0</td>\n",
       "      <td>70.0</td>\n",
       "      <td>43.0</td>\n",
       "      <td>43.0</td>\n",
       "    </tr>\n",
       "  </tbody>\n",
       "</table>\n",
       "<p>5 rows × 70 columns</p>\n",
       "</div>"
      ],
      "text/plain": [
       "  AGER_TYP ALTERSKATEGORIE_GROB ANREDE_KZ FINANZ_MINIMALIST FINANZ_SPARER  \\\n",
       "0      2.0                  2.0       1.0               3.0           4.0   \n",
       "1      2.0                  1.0       2.0               1.0           5.0   \n",
       "2      2.0                  3.0       2.0               1.0           4.0   \n",
       "3      2.0                  4.0       2.0               4.0           2.0   \n",
       "4      2.0                  3.0       1.0               4.0           3.0   \n",
       "\n",
       "  FINANZ_VORSORGER FINANZ_ANLEGER FINANZ_UNAUFFAELLIGER FINANZ_HAUSBAUER  \\\n",
       "0              3.0            5.0                   5.0              3.0   \n",
       "1              2.0            5.0                   4.0              5.0   \n",
       "2              1.0            2.0                   3.0              5.0   \n",
       "3              5.0            2.0                   1.0              2.0   \n",
       "4              4.0            1.0                   3.0              2.0   \n",
       "\n",
       "  GEBURTSJAHR         ...          PLZ8_ANTG4 PLZ8_HHZ PLZ8_GBZ ARBEIT  \\\n",
       "0      1967.0         ...                 0.0      3.0      3.0    4.0   \n",
       "1      1996.0         ...                 1.0      5.0      4.0    3.0   \n",
       "2      1979.0         ...                 0.0      4.0      4.0    3.0   \n",
       "3      1957.0         ...                 0.0      3.0      4.0    2.0   \n",
       "4      1963.0         ...                 1.0      3.0      3.0    4.0   \n",
       "\n",
       "  ORTSGR_KLS9 RELAT_AB PRAEGENDE_JUGENDJAHRE_movement  \\\n",
       "0         5.0      3.0                            0.0   \n",
       "1         5.0      4.0                            0.0   \n",
       "2         5.0      2.0                           -1.0   \n",
       "3         3.0      3.0                            0.0   \n",
       "4         6.0      5.0                            0.0   \n",
       "\n",
       "  PRAEGENDE_JUGENDJAHRE_decade CAMEO_INTL_2015_tens CAMEO_INTL_2015_ones  \n",
       "0                         90.0                 51.0                 51.0  \n",
       "1                         90.0                 51.0                 51.0  \n",
       "2                         90.0                 24.0                 24.0  \n",
       "3                         70.0                 12.0                 12.0  \n",
       "4                         70.0                 43.0                 43.0  \n",
       "\n",
       "[5 rows x 70 columns]"
      ]
     },
     "execution_count": 21,
     "metadata": {},
     "output_type": "execute_result"
    }
   ],
   "source": [
    "# If you've not yet cleaned the dataset of all NaN values, then investigate and\n",
    "# do that now.\n",
    "\n",
    "imp = preprocessing.Imputer(missing_values='NaN', strategy='most_frequent',axis=0)\n",
    "azdias=pd.DataFrame(imp.fit_transform(azdias), columns=[col_names])\n",
    "\n",
    "print(azdias.isnull().sum().sum())\n",
    "azdias.head()"
   ]
  },
  {
   "cell_type": "code",
   "execution_count": 22,
   "metadata": {},
   "outputs": [
    {
     "data": {
      "text/html": [
       "<div>\n",
       "<style scoped>\n",
       "    .dataframe tbody tr th:only-of-type {\n",
       "        vertical-align: middle;\n",
       "    }\n",
       "\n",
       "    .dataframe tbody tr th {\n",
       "        vertical-align: top;\n",
       "    }\n",
       "\n",
       "    .dataframe thead th {\n",
       "        text-align: right;\n",
       "    }\n",
       "</style>\n",
       "<table border=\"1\" class=\"dataframe\">\n",
       "  <thead>\n",
       "    <tr style=\"text-align: right;\">\n",
       "      <th></th>\n",
       "      <th>0</th>\n",
       "      <th>1</th>\n",
       "      <th>2</th>\n",
       "      <th>3</th>\n",
       "      <th>4</th>\n",
       "      <th>5</th>\n",
       "      <th>6</th>\n",
       "      <th>7</th>\n",
       "      <th>8</th>\n",
       "      <th>9</th>\n",
       "      <th>...</th>\n",
       "      <th>60</th>\n",
       "      <th>61</th>\n",
       "      <th>62</th>\n",
       "      <th>63</th>\n",
       "      <th>64</th>\n",
       "      <th>65</th>\n",
       "      <th>66</th>\n",
       "      <th>67</th>\n",
       "      <th>68</th>\n",
       "      <th>69</th>\n",
       "    </tr>\n",
       "  </thead>\n",
       "  <tbody>\n",
       "    <tr>\n",
       "      <th>0</th>\n",
       "      <td>0.17327</td>\n",
       "      <td>-0.751680</td>\n",
       "      <td>-1.045218</td>\n",
       "      <td>-0.056416</td>\n",
       "      <td>0.804890</td>\n",
       "      <td>-0.303378</td>\n",
       "      <td>1.285741</td>\n",
       "      <td>1.429871</td>\n",
       "      <td>-0.055511</td>\n",
       "      <td>-0.004318</td>\n",
       "      <td>...</td>\n",
       "      <td>-0.846764</td>\n",
       "      <td>-0.572015</td>\n",
       "      <td>-0.317206</td>\n",
       "      <td>0.758890</td>\n",
       "      <td>-0.120115</td>\n",
       "      <td>-0.049267</td>\n",
       "      <td>0.494701</td>\n",
       "      <td>0.994991</td>\n",
       "      <td>0.977331</td>\n",
       "      <td>0.977331</td>\n",
       "    </tr>\n",
       "    <tr>\n",
       "      <th>1</th>\n",
       "      <td>0.17327</td>\n",
       "      <td>-1.743339</td>\n",
       "      <td>0.956738</td>\n",
       "      <td>-1.570358</td>\n",
       "      <td>1.487601</td>\n",
       "      <td>-1.059731</td>\n",
       "      <td>1.285741</td>\n",
       "      <td>0.757254</td>\n",
       "      <td>1.422415</td>\n",
       "      <td>2.173778</td>\n",
       "      <td>...</td>\n",
       "      <td>0.546491</td>\n",
       "      <td>1.575581</td>\n",
       "      <td>0.640354</td>\n",
       "      <td>-0.263506</td>\n",
       "      <td>-0.120115</td>\n",
       "      <td>0.729399</td>\n",
       "      <td>0.494701</td>\n",
       "      <td>0.994991</td>\n",
       "      <td>0.977331</td>\n",
       "      <td>0.977331</td>\n",
       "    </tr>\n",
       "    <tr>\n",
       "      <th>2</th>\n",
       "      <td>0.17327</td>\n",
       "      <td>0.239980</td>\n",
       "      <td>0.956738</td>\n",
       "      <td>-1.570358</td>\n",
       "      <td>0.804890</td>\n",
       "      <td>-1.816084</td>\n",
       "      <td>-0.675554</td>\n",
       "      <td>0.084637</td>\n",
       "      <td>1.422415</td>\n",
       "      <td>0.896963</td>\n",
       "      <td>...</td>\n",
       "      <td>-0.846764</td>\n",
       "      <td>0.501783</td>\n",
       "      <td>0.640354</td>\n",
       "      <td>-0.263506</td>\n",
       "      <td>-0.120115</td>\n",
       "      <td>-0.827934</td>\n",
       "      <td>-2.021423</td>\n",
       "      <td>0.994991</td>\n",
       "      <td>-0.937974</td>\n",
       "      <td>-0.937974</td>\n",
       "    </tr>\n",
       "    <tr>\n",
       "      <th>3</th>\n",
       "      <td>0.17327</td>\n",
       "      <td>1.231640</td>\n",
       "      <td>0.956738</td>\n",
       "      <td>0.700556</td>\n",
       "      <td>-0.560532</td>\n",
       "      <td>1.209329</td>\n",
       "      <td>-0.675554</td>\n",
       "      <td>-1.260597</td>\n",
       "      <td>-0.794475</td>\n",
       "      <td>-0.755385</td>\n",
       "      <td>...</td>\n",
       "      <td>-0.846764</td>\n",
       "      <td>-0.572015</td>\n",
       "      <td>0.640354</td>\n",
       "      <td>-1.285903</td>\n",
       "      <td>-1.039247</td>\n",
       "      <td>-0.049267</td>\n",
       "      <td>0.494701</td>\n",
       "      <td>-0.363493</td>\n",
       "      <td>-1.789221</td>\n",
       "      <td>-1.789221</td>\n",
       "    </tr>\n",
       "    <tr>\n",
       "      <th>4</th>\n",
       "      <td>0.17327</td>\n",
       "      <td>0.239980</td>\n",
       "      <td>-1.045218</td>\n",
       "      <td>0.700556</td>\n",
       "      <td>0.122179</td>\n",
       "      <td>0.452976</td>\n",
       "      <td>-1.329319</td>\n",
       "      <td>0.084637</td>\n",
       "      <td>-0.794475</td>\n",
       "      <td>-0.304744</td>\n",
       "      <td>...</td>\n",
       "      <td>0.546491</td>\n",
       "      <td>-0.572015</td>\n",
       "      <td>-0.317206</td>\n",
       "      <td>0.758890</td>\n",
       "      <td>0.339451</td>\n",
       "      <td>1.508065</td>\n",
       "      <td>0.494701</td>\n",
       "      <td>-0.363493</td>\n",
       "      <td>0.409833</td>\n",
       "      <td>0.409833</td>\n",
       "    </tr>\n",
       "  </tbody>\n",
       "</table>\n",
       "<p>5 rows × 70 columns</p>\n",
       "</div>"
      ],
      "text/plain": [
       "        0         1         2         3         4         5         6   \\\n",
       "0  0.17327 -0.751680 -1.045218 -0.056416  0.804890 -0.303378  1.285741   \n",
       "1  0.17327 -1.743339  0.956738 -1.570358  1.487601 -1.059731  1.285741   \n",
       "2  0.17327  0.239980  0.956738 -1.570358  0.804890 -1.816084 -0.675554   \n",
       "3  0.17327  1.231640  0.956738  0.700556 -0.560532  1.209329 -0.675554   \n",
       "4  0.17327  0.239980 -1.045218  0.700556  0.122179  0.452976 -1.329319   \n",
       "\n",
       "         7         8         9     ...           60        61        62  \\\n",
       "0  1.429871 -0.055511 -0.004318    ...    -0.846764 -0.572015 -0.317206   \n",
       "1  0.757254  1.422415  2.173778    ...     0.546491  1.575581  0.640354   \n",
       "2  0.084637  1.422415  0.896963    ...    -0.846764  0.501783  0.640354   \n",
       "3 -1.260597 -0.794475 -0.755385    ...    -0.846764 -0.572015  0.640354   \n",
       "4  0.084637 -0.794475 -0.304744    ...     0.546491 -0.572015 -0.317206   \n",
       "\n",
       "         63        64        65        66        67        68        69  \n",
       "0  0.758890 -0.120115 -0.049267  0.494701  0.994991  0.977331  0.977331  \n",
       "1 -0.263506 -0.120115  0.729399  0.494701  0.994991  0.977331  0.977331  \n",
       "2 -0.263506 -0.120115 -0.827934 -2.021423  0.994991 -0.937974 -0.937974  \n",
       "3 -1.285903 -1.039247 -0.049267  0.494701 -0.363493 -1.789221 -1.789221  \n",
       "4  0.758890  0.339451  1.508065  0.494701 -0.363493  0.409833  0.409833  \n",
       "\n",
       "[5 rows x 70 columns]"
      ]
     },
     "execution_count": 22,
     "metadata": {},
     "output_type": "execute_result"
    }
   ],
   "source": [
    "# Apply feature scaling to the general population demographics data.\n",
    "scaler=StandardScaler()\n",
    "azdias=scaler.fit_transform(azdias)\n",
    "\n",
    "azdias=pd.DataFrame(azdias)\n",
    "azdias.head()"
   ]
  },
  {
   "cell_type": "markdown",
   "metadata": {},
   "source": [
    "### Step 2.2: Perform Dimensionality Reduction\n"
   ]
  },
  {
   "cell_type": "code",
   "execution_count": 23,
   "metadata": {},
   "outputs": [],
   "source": [
    "# Apply PCA to the data.\n",
    "pca = PCA(30)\n",
    "\n",
    "azdias_pca= pca.fit_transform(azdias)\n"
   ]
  },
  {
   "cell_type": "code",
   "execution_count": 24,
   "metadata": {},
   "outputs": [
    {
     "data": {
      "text/plain": [
       "[<matplotlib.lines.Line2D at 0x7f69804c7860>]"
      ]
     },
     "execution_count": 24,
     "metadata": {},
     "output_type": "execute_result"
    },
    {
     "data": {
      "image/png": "[encoded data removed]",
      "text/plain": [
       "<matplotlib.figure.Figure at 0x7f69804c71d0>"
      ]
     },
     "metadata": {
      "needs_background": "light"
     },
     "output_type": "display_data"
    }
   ],
   "source": [
    "# Investigate the variance accounted for by each principal component.\n",
    "\n",
    "num_component = len(pca.explained_variance_ratio_)\n",
    "ind=np.arange(num_component)\n",
    "vals=pca.explained_variance_ratio_\n",
    "plt.figure(figsize=(10,6))\n",
    "ax=plt.subplot(111)\n",
    "cumvals=np.cumsum(vals)\n",
    "ax.bar(ind,vals)\n",
    "ax.plot(ind, cumvals)"
   ]
  },
  {
   "cell_type": "code",
   "execution_count": 25,
   "metadata": {},
   "outputs": [
    {
     "data": {
      "text/plain": [
       "[<matplotlib.lines.Line2D at 0x7f69805015c0>]"
      ]
     },
     "execution_count": 25,
     "metadata": {},
     "output_type": "execute_result"
    },
    {
     "data": {
      "image/png": "[encoded data removed]",
      "text/plain": [
       "<matplotlib.figure.Figure at 0x7f69804c4da0>"
      ]
     },
     "metadata": {
      "needs_background": "light"
     },
     "output_type": "display_data"
    }
   ],
   "source": [
    "# Re-apply PCA to the data while selecting for number of components to retain.\n",
    "pca2 = PCA(60)\n",
    "azdias_pca2= pca2.fit_transform(azdias)\n",
    "num_component = len(pca2.explained_variance_ratio_)\n",
    "ind2=np.arange(num_component)\n",
    "vals2=pca2.explained_variance_ratio_\n",
    "plt.figure(figsize=(10,6))\n",
    "ax=plt.subplot(111)\n",
    "cumvals=np.cumsum(vals2)\n",
    "ax.bar(ind2,vals2)\n",
    "ax.plot(ind2, cumvals)"
   ]
  },
  {
   "cell_type": "code",
   "execution_count": 26,
   "metadata": {},
   "outputs": [],
   "source": [
    "# Map weights for the first principal component to corresponding feature names\n",
    "# and then print the linked values, sorted by weight.\n",
    "def map_weigths(pca, pc_num):\n",
    "    vectors=pca.components_\n",
    "    W=pd.DataFrame(vectors[pc_num], col_names)#.columns=['weights']\n",
    "    W.columns=['weights']\n",
    "    Z=W.sort_values(by='weights', ascending=False)\n",
    "    print(Z.head(10))\n"
   ]
  },
  {
   "cell_type": "code",
   "execution_count": 27,
   "metadata": {},
   "outputs": [
    {
     "name": "stdout",
     "output_type": "stream",
     "text": [
      "                       weights\n",
      "ALTERSKATEGORIE_GROB  0.229180\n",
      "FINANZ_VORSORGER      0.217527\n",
      "SEMIO_ERL             0.188075\n",
      "RETOURTYP_BK_S        0.164204\n",
      "SEMIO_LUST            0.159112\n",
      "FINANZ_HAUSBAUER      0.139763\n",
      "PLZ8_ANTG4            0.137160\n",
      "ORTSGR_KLS9           0.125119\n",
      "PLZ8_ANTG3            0.124458\n",
      "KBA05_BAUMAX          0.111187\n"
     ]
    }
   ],
   "source": [
    "map_weigths(pca,1)"
   ]
  },
  {
   "cell_type": "code",
   "execution_count": 28,
   "metadata": {},
   "outputs": [
    {
     "name": "stdout",
     "output_type": "stream",
     "text": [
      "                    weights\n",
      "SEMIO_VERT         0.347584\n",
      "SEMIO_SOZ          0.299767\n",
      "SEMIO_KULT         0.299053\n",
      "SEMIO_FAM          0.236476\n",
      "PLZ8_ANTG4         0.094580\n",
      "FINANZ_MINIMALIST  0.089019\n",
      "SEMIO_MAT          0.085296\n",
      "SEMIO_REL          0.074210\n",
      "KBA05_BAUMAX       0.067523\n",
      "ORTSGR_KLS9        0.061520\n"
     ]
    }
   ],
   "source": [
    "# Map weights for the second principal component to corresponding feature names\n",
    "# and then print the linked values, sorted by weight.\n",
    "\n",
    "map_weigths(pca,2)"
   ]
  },
  {
   "cell_type": "code",
   "execution_count": 29,
   "metadata": {},
   "outputs": [
    {
     "name": "stdout",
     "output_type": "stream",
     "text": [
      "                    weights\n",
      "GREEN_AVANTGARDE   0.308542\n",
      "ORTSGR_KLS9        0.211655\n",
      "PLZ8_ANTG4         0.177177\n",
      "ONLINE_AFFINITAET  0.172184\n",
      "ANZ_PERSONEN       0.156292\n",
      "SEMIO_TRADV        0.147061\n",
      "ANREDE_KZ          0.145364\n",
      "SEMIO_RAT          0.135756\n",
      "KBA05_ANTG1        0.128810\n",
      "MOBI_REGIO         0.128572\n"
     ]
    }
   ],
   "source": [
    "# Map weights for the third principal component to corresponding feature names\n",
    "# and then print the linked values, sorted by weight.\n",
    "\n",
    "map_weigths(pca,3)"
   ]
  },
  {
   "cell_type": "markdown",
   "metadata": {},
   "source": [
    "## Step 3: Clustering\n",
    "\n",
    "### Step 3.1: Apply Clustering to General Population\n",
    "\n"
   ]
  },
  {
   "cell_type": "code",
   "execution_count": 30,
   "metadata": {},
   "outputs": [
    {
     "name": "stdout",
     "output_type": "stream",
     "text": [
      "27286949.5445\n"
     ]
    }
   ],
   "source": [
    "# Over a number of different cluster counts...\n",
    "kmeans=KMeans(20)\n",
    "\n",
    "    # run k-means clustering on the data and...\n",
    "model=kmeans.fit(azdias_pca)    \n",
    "    \n",
    "    # compute the average within-cluster distances.\n",
    "    \n",
    "kmeans_score=model.score(azdias_pca) \n",
    "print(np.abs(kmeans_score))"
   ]
  },
  {
   "cell_type": "code",
   "execution_count": 57,
   "metadata": {},
   "outputs": [],
   "source": [
    "# Investigate the change in within-cluster distance across number of clusters.\n",
    "scores=[]\n",
    "centers=[]\n",
    "#kmeans_loop=KMeans()\n",
    "for i in range(1, 27, 5):\n",
    "    scores.append(np.abs(KMeans(i).fit(azdias_pca).score(azdias_pca)))\n",
    "    centers.append(i)"
   ]
  },
  {
   "cell_type": "code",
   "execution_count": 61,
   "metadata": {},
   "outputs": [
    {
     "data": {
      "text/plain": [
       "Text(0.5,1,'SSE vs K')"
      ]
     },
     "execution_count": 61,
     "metadata": {},
     "output_type": "execute_result"
    },
    {
     "data": {
      "image/png": "[encoded data removed]",
      "text/plain": [
       "<matplotlib.figure.Figure at 0x7efc833b5208>"
      ]
     },
     "metadata": {},
     "output_type": "display_data"
    }
   ],
   "source": [
    "plt.plot(centers, scores, linestyle='--', marker='o', color='r')\n",
    "plt.xlabel('k')\n",
    "plt.ylabel('SSE')\n",
    "plt.title('SSE vs K')"
   ]
  },
  {
   "cell_type": "code",
   "execution_count": 84,
   "metadata": {},
   "outputs": [
    {
     "name": "stdout",
     "output_type": "stream",
     "text": [
      "37547087.5978\n"
     ]
    }
   ],
   "source": [
    "# Re-fit the k-means model with the selected number of clusters and obtain\n",
    "# cluster predictions for the general population demographics data.\n",
    "\n",
    "kmeans_general=KMeans(5)\n",
    "model_general=kmeans_general.fit(azdias_pca)\n",
    "general_pred=model_general.predict(azdias_pca)\n",
    "kmeans_score=model_general.score(azdias_pca) \n",
    "print(np.abs(kmeans_score))"
   ]
  },
  {
   "cell_type": "code",
   "execution_count": 44,
   "metadata": {},
   "outputs": [
    {
     "data": {
      "text/plain": [
       "891221"
      ]
     },
     "execution_count": 44,
     "metadata": {},
     "output_type": "execute_result"
    }
   ],
   "source": [
    "len(general_pred)"
   ]
  },
  {
   "cell_type": "markdown",
   "metadata": {},
   "source": [
    "### Step 3.2: Apply All Steps to the Customer Data\n"
   ]
  },
  {
   "cell_type": "code",
   "execution_count": 85,
   "metadata": {},
   "outputs": [
    {
     "data": {
      "text/html": [
       "<div>\n",
       "<style scoped>\n",
       "    .dataframe tbody tr th:only-of-type {\n",
       "        vertical-align: middle;\n",
       "    }\n",
       "\n",
       "    .dataframe tbody tr th {\n",
       "        vertical-align: top;\n",
       "    }\n",
       "\n",
       "    .dataframe thead th {\n",
       "        text-align: right;\n",
       "    }\n",
       "</style>\n",
       "<table border=\"1\" class=\"dataframe\">\n",
       "  <thead>\n",
       "    <tr style=\"text-align: right;\">\n",
       "      <th></th>\n",
       "      <th>AGER_TYP</th>\n",
       "      <th>ALTERSKATEGORIE_GROB</th>\n",
       "      <th>ANREDE_KZ</th>\n",
       "      <th>CJT_GESAMTTYP</th>\n",
       "      <th>FINANZ_MINIMALIST</th>\n",
       "      <th>FINANZ_SPARER</th>\n",
       "      <th>FINANZ_VORSORGER</th>\n",
       "      <th>FINANZ_ANLEGER</th>\n",
       "      <th>FINANZ_UNAUFFAELLIGER</th>\n",
       "      <th>FINANZ_HAUSBAUER</th>\n",
       "      <th>...</th>\n",
       "      <th>PLZ8_ANTG1</th>\n",
       "      <th>PLZ8_ANTG2</th>\n",
       "      <th>PLZ8_ANTG3</th>\n",
       "      <th>PLZ8_ANTG4</th>\n",
       "      <th>PLZ8_BAUMAX</th>\n",
       "      <th>PLZ8_HHZ</th>\n",
       "      <th>PLZ8_GBZ</th>\n",
       "      <th>ARBEIT</th>\n",
       "      <th>ORTSGR_KLS9</th>\n",
       "      <th>RELAT_AB</th>\n",
       "    </tr>\n",
       "  </thead>\n",
       "  <tbody>\n",
       "    <tr>\n",
       "      <th>0</th>\n",
       "      <td>2</td>\n",
       "      <td>4</td>\n",
       "      <td>1</td>\n",
       "      <td>5.0</td>\n",
       "      <td>5</td>\n",
       "      <td>1</td>\n",
       "      <td>5</td>\n",
       "      <td>1</td>\n",
       "      <td>2</td>\n",
       "      <td>2</td>\n",
       "      <td>...</td>\n",
       "      <td>3.0</td>\n",
       "      <td>3.0</td>\n",
       "      <td>1.0</td>\n",
       "      <td>0.0</td>\n",
       "      <td>1.0</td>\n",
       "      <td>5.0</td>\n",
       "      <td>5.0</td>\n",
       "      <td>1.0</td>\n",
       "      <td>2.0</td>\n",
       "      <td>1.0</td>\n",
       "    </tr>\n",
       "    <tr>\n",
       "      <th>1</th>\n",
       "      <td>-1</td>\n",
       "      <td>4</td>\n",
       "      <td>1</td>\n",
       "      <td>NaN</td>\n",
       "      <td>5</td>\n",
       "      <td>1</td>\n",
       "      <td>5</td>\n",
       "      <td>1</td>\n",
       "      <td>3</td>\n",
       "      <td>2</td>\n",
       "      <td>...</td>\n",
       "      <td>NaN</td>\n",
       "      <td>NaN</td>\n",
       "      <td>NaN</td>\n",
       "      <td>NaN</td>\n",
       "      <td>NaN</td>\n",
       "      <td>NaN</td>\n",
       "      <td>NaN</td>\n",
       "      <td>NaN</td>\n",
       "      <td>NaN</td>\n",
       "      <td>NaN</td>\n",
       "    </tr>\n",
       "    <tr>\n",
       "      <th>2</th>\n",
       "      <td>-1</td>\n",
       "      <td>4</td>\n",
       "      <td>2</td>\n",
       "      <td>2.0</td>\n",
       "      <td>5</td>\n",
       "      <td>1</td>\n",
       "      <td>5</td>\n",
       "      <td>1</td>\n",
       "      <td>4</td>\n",
       "      <td>4</td>\n",
       "      <td>...</td>\n",
       "      <td>2.0</td>\n",
       "      <td>3.0</td>\n",
       "      <td>3.0</td>\n",
       "      <td>1.0</td>\n",
       "      <td>3.0</td>\n",
       "      <td>3.0</td>\n",
       "      <td>2.0</td>\n",
       "      <td>3.0</td>\n",
       "      <td>5.0</td>\n",
       "      <td>3.0</td>\n",
       "    </tr>\n",
       "    <tr>\n",
       "      <th>3</th>\n",
       "      <td>1</td>\n",
       "      <td>4</td>\n",
       "      <td>1</td>\n",
       "      <td>2.0</td>\n",
       "      <td>5</td>\n",
       "      <td>1</td>\n",
       "      <td>5</td>\n",
       "      <td>2</td>\n",
       "      <td>1</td>\n",
       "      <td>2</td>\n",
       "      <td>...</td>\n",
       "      <td>3.0</td>\n",
       "      <td>2.0</td>\n",
       "      <td>1.0</td>\n",
       "      <td>0.0</td>\n",
       "      <td>1.0</td>\n",
       "      <td>3.0</td>\n",
       "      <td>4.0</td>\n",
       "      <td>1.0</td>\n",
       "      <td>3.0</td>\n",
       "      <td>1.0</td>\n",
       "    </tr>\n",
       "    <tr>\n",
       "      <th>4</th>\n",
       "      <td>-1</td>\n",
       "      <td>3</td>\n",
       "      <td>1</td>\n",
       "      <td>6.0</td>\n",
       "      <td>3</td>\n",
       "      <td>1</td>\n",
       "      <td>4</td>\n",
       "      <td>4</td>\n",
       "      <td>5</td>\n",
       "      <td>2</td>\n",
       "      <td>...</td>\n",
       "      <td>2.0</td>\n",
       "      <td>4.0</td>\n",
       "      <td>2.0</td>\n",
       "      <td>1.0</td>\n",
       "      <td>2.0</td>\n",
       "      <td>3.0</td>\n",
       "      <td>3.0</td>\n",
       "      <td>3.0</td>\n",
       "      <td>5.0</td>\n",
       "      <td>1.0</td>\n",
       "    </tr>\n",
       "  </tbody>\n",
       "</table>\n",
       "<p>5 rows × 85 columns</p>\n",
       "</div>"
      ],
      "text/plain": [
       "   AGER_TYP  ALTERSKATEGORIE_GROB  ANREDE_KZ  CJT_GESAMTTYP  \\\n",
       "0         2                     4          1            5.0   \n",
       "1        -1                     4          1            NaN   \n",
       "2        -1                     4          2            2.0   \n",
       "3         1                     4          1            2.0   \n",
       "4        -1                     3          1            6.0   \n",
       "\n",
       "   FINANZ_MINIMALIST  FINANZ_SPARER  FINANZ_VORSORGER  FINANZ_ANLEGER  \\\n",
       "0                  5              1                 5               1   \n",
       "1                  5              1                 5               1   \n",
       "2                  5              1                 5               1   \n",
       "3                  5              1                 5               2   \n",
       "4                  3              1                 4               4   \n",
       "\n",
       "   FINANZ_UNAUFFAELLIGER  FINANZ_HAUSBAUER    ...     PLZ8_ANTG1  PLZ8_ANTG2  \\\n",
       "0                      2                 2    ...            3.0         3.0   \n",
       "1                      3                 2    ...            NaN         NaN   \n",
       "2                      4                 4    ...            2.0         3.0   \n",
       "3                      1                 2    ...            3.0         2.0   \n",
       "4                      5                 2    ...            2.0         4.0   \n",
       "\n",
       "   PLZ8_ANTG3  PLZ8_ANTG4  PLZ8_BAUMAX  PLZ8_HHZ  PLZ8_GBZ  ARBEIT  \\\n",
       "0         1.0         0.0          1.0       5.0       5.0     1.0   \n",
       "1         NaN         NaN          NaN       NaN       NaN     NaN   \n",
       "2         3.0         1.0          3.0       3.0       2.0     3.0   \n",
       "3         1.0         0.0          1.0       3.0       4.0     1.0   \n",
       "4         2.0         1.0          2.0       3.0       3.0     3.0   \n",
       "\n",
       "   ORTSGR_KLS9  RELAT_AB  \n",
       "0          2.0       1.0  \n",
       "1          NaN       NaN  \n",
       "2          5.0       3.0  \n",
       "3          3.0       1.0  \n",
       "4          5.0       1.0  \n",
       "\n",
       "[5 rows x 85 columns]"
      ]
     },
     "execution_count": 85,
     "metadata": {},
     "output_type": "execute_result"
    }
   ],
   "source": [
    "# Load in the customer demographics data.\n",
    "customers = pd.read_csv('Udacity_CUSTOMERS_Subset.csv', delimiter=';')\n",
    "customers.head()\n",
    "#customers.shape"
   ]
  },
  {
   "cell_type": "code",
   "execution_count": 86,
   "metadata": {},
   "outputs": [
    {
     "name": "stdout",
     "output_type": "stream",
     "text": [
      "(122867, 62)\n",
      "[ 0.70017953  1.44637648 -1.28546474 -0.50516064  0.50341387 -0.59224995\n",
      "  0.20916725  1.73386189 -1.03790443  0.02520316 -1.42065523  0.92007485\n",
      "  0.3743837  -1.1264634  -1.52166813 -1.21979274 -1.27878441  0.90028948\n",
      "  1.22562811 -1.67761227 -0.61971253  1.20800969  0.62025251  1.35732867\n",
      "  0.74580443 -1.38471115 -0.09943786  0.99048211 -1.04445809 -0.13753729\n",
      "  1.06079888 -1.62369589  0.31564742 -0.12973541 -0.80182998 -0.33840253\n",
      "  0.29474759 -1.62624026 -1.11577332  3.56907166 -0.31182632 -1.42840585\n",
      " -1.56540931  1.32416956 -1.4287467   0.17273083 -2.09952621 -1.48877896\n",
      " -0.25302746 -1.71232362  1.51991761  1.83068861  0.73146101  1.46869499\n",
      " -0.62155186  0.17760607  1.34162975  1.4825062   1.04399725 -1.41394008\n",
      "  1.60640552  1.60640552]\n"
     ]
    }
   ],
   "source": [
    "# Apply preprocessing, feature transformation, and clustering from the general\n",
    "# demographics onto the customer data, obtaining cluster predictions for the\n",
    "# customer demographics data.\n",
    "customers= clean_data(customers, col_null_list)\n",
    "\n",
    "scaler=StandardScaler()\n",
    "customers=scaler.fit_transform(customers)\n",
    "\n",
    "print(customers.shape)\n",
    "print(customers[10])"
   ]
  },
  {
   "cell_type": "code",
   "execution_count": 87,
   "metadata": {},
   "outputs": [
    {
     "name": "stdout",
     "output_type": "stream",
     "text": [
      "(122867,)\n"
     ]
    },
    {
     "data": {
      "text/plain": [
       "array([1, 2, 0, 1, 3, 1, 4, 3, 3, 3], dtype=int32)"
      ]
     },
     "execution_count": 87,
     "metadata": {},
     "output_type": "execute_result"
    }
   ],
   "source": [
    "pca = PCA(30)\n",
    "customers_pca= pca.fit_transform(customers)\n",
    "\n",
    "customer_pred=model_general.predict(customers_pca)  \n",
    "\n",
    "print(customer_pred.shape)\n",
    "customer_pred[:10]"
   ]
  },
  {
   "cell_type": "markdown",
   "metadata": {},
   "source": [
    "### Step 3.3: Compare Customer Data to Demographics Data\n",
    "\n"
   ]
  },
  {
   "cell_type": "code",
   "execution_count": 88,
   "metadata": {},
   "outputs": [
    {
     "name": "stdout",
     "output_type": "stream",
     "text": [
      "[19993, 28117, 12424, 38607, 23726]\n",
      "[ 16.27206654  22.88409418  10.11174685  31.42178128  19.31031115]\n"
     ]
    }
   ],
   "source": [
    "# Compare the proportion of data in each cluster for the customer data to the\n",
    "# proportion of data in each cluster for the general population.\n",
    "customer_class_count=[0, 0, 0, 0, 0]\n",
    "for i in customer_pred:\n",
    "    if i==0:\n",
    "        customer_class_count[0]+=1 \n",
    "    elif i==1: \n",
    "        customer_class_count[1]+=1\n",
    "    elif i==2:\n",
    "        customer_class_count[2]+=1 \n",
    "    elif i==3: \n",
    "        customer_class_count[3]+=1\n",
    "    else:\n",
    "        customer_class_count[4]+=1\n",
    "print(customer_class_count)\n",
    "customer_class_percentage=np.divide(customer_class_count,len(customer_pred))*100\n",
    "print(customer_class_percentage)"
   ]
  },
  {
   "cell_type": "code",
   "execution_count": 89,
   "metadata": {},
   "outputs": [
    {
     "name": "stdout",
     "output_type": "stream",
     "text": [
      "[217381, 180406, 83226, 251524, 158684]\n",
      "[ 24.3913687   20.2425661    9.33842448  28.22240499  17.80523574]\n"
     ]
    }
   ],
   "source": [
    "general_class_count=[0, 0, 0, 0, 0]\n",
    "for i in general_pred:\n",
    "    if i==0:\n",
    "        general_class_count[0]+=1 \n",
    "    elif i==1: \n",
    "        general_class_count[1]+=1\n",
    "    elif i==2:\n",
    "        general_class_count[2]+=1 \n",
    "    elif i==3: \n",
    "        general_class_count[3]+=1\n",
    "    else:\n",
    "        general_class_count[4]+=1\n",
    "print(general_class_count)\n",
    "general_class_percentage=np.divide(general_class_count,len(general_pred))*100\n",
    "print(general_class_percentage)"
   ]
  },
  {
   "cell_type": "code",
   "execution_count": 90,
   "metadata": {},
   "outputs": [
    {
     "data": {
      "image/png": "[encoded data removed]",
      "text/plain": [
       "<matplotlib.figure.Figure at 0x7f6980030748>"
      ]
     },
     "metadata": {
      "needs_background": "light"
     },
     "output_type": "display_data"
    }
   ],
   "source": [
    "fig = plt.figure()\n",
    "ax = fig.add_subplot(111)\n",
    "indices = np.arange(5) \n",
    "width = 0.35\n",
    "plt.bar(indices, customer_class_percentage, width, label='Customer')\n",
    "plt.bar(indices+width, general_class_percentage, width, label='General')\n",
    "plt.legend(loc='best')\n",
    "plt.show()"
   ]
  },
  {
   "cell_type": "markdown",
   "metadata": {},
   "source": [
    "Generally, since we see a mismatch from one to the other cluster assignment proportions, there are only particular segments of the population that are interested in the company's products.\n",
    "Cluster #2 and #4 are fairly the same. However, cluster #1 and #3 are overpresented in the customer data comapred to the general population. It shows there is a higher proportion of persons in a cluster for the customer data compared to the general population then that suggests the people in these clusters to be a target audience for the company."
   ]
  },
  {
   "cell_type": "markdown",
   "metadata": {},
   "source": [
    "People in cluster #0 are underrepresented in the customer data compared to the general population. That is the proportion of the data in a cluster being larger in the general population than the customer data (only 16% of customers closest to a population centroid that captures 24% of the data) suggests that group of persons to be outside of the target demographics."
   ]
  },
  {
   "cell_type": "markdown",
   "metadata": {},
   "source": [
    "We can describe segments of the population that are relatively popular with the mail-order company, or relatively unpopular with the company.\n",
    "Cluster #1 and #4 segments is relatively popular with company since its proportion is more than the public.\n",
    "Cluster #0 segments is relatively unpopular with company since its proportion is much less than the public."
   ]
  },
  {
   "cell_type": "code",
   "execution_count": null,
   "metadata": {},
   "outputs": [],
   "source": []
  }
 ],
 "metadata": {
  "kernelspec": {
   "display_name": "Python 3",
   "language": "python",
   "name": "python3"
  },
  "language_info": {
   "codemirror_mode": {
    "name": "ipython",
    "version": 3
   },
   "file_extension": ".py",
   "mimetype": "text/x-python",
   "name": "python",
   "nbconvert_exporter": "python",
   "pygments_lexer": "ipython3",
   "version": "3.6.5"
  }
 },
 "nbformat": 4,
 "nbformat_minor": 2
}
